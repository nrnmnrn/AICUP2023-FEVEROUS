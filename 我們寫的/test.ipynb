{
 "cells": [
  {
   "attachments": {},
   "cell_type": "markdown",
   "metadata": {},
   "source": [
    "--------測試retriever----------"
   ]
  },
  {
   "cell_type": "code",
   "execution_count": 1,
   "metadata": {},
   "outputs": [
    {
     "name": "stderr",
     "output_type": "stream",
     "text": [
      "/user_data/miniconda3/envs/model_training/lib/python3.8/site-packages/tqdm/auto.py:21: TqdmWarning: IProgress not found. Please update jupyter and ipywidgets. See https://ipywidgets.readthedocs.io/en/stable/user_install.html\n",
      "  from .autonotebook import tqdm as notebook_tqdm\n"
     ]
    }
   ],
   "source": [
    "from pyserini.search.lucene import LuceneSearcher\n",
    "from pyserini.index import IndexReader\n",
    "\n",
    "def Retreiver(quesion):\n",
    "  searcher.set_language('zh')\n",
    "  hits = searcher.search(quesion, k=10)\n",
    "  for i in range(len(hits)):\n",
    "    print(f'{i+1:2} {hits[i].docid:4} {hits[i].score:.5f}')\n",
    "\n",
    "  return hits\n",
    "searcher = LuceneSearcher('./indexes/')\n",
    "index_reader = IndexReader('./indexes')\n"
   ]
  },
  {
   "cell_type": "code",
   "execution_count": 2,
   "metadata": {},
   "outputs": [],
   "source": [
    "#改變wiki資料格式，並額外創出做出反向索引需要的檔案\n",
    "\n",
    "import pandas as pd\n",
    "import os, json\n",
    "\n",
    "folder_path = \"Training Dataset_v2/訓練資料集/wiki-pages_Dec 2022 dump/wiki-pages\"\n",
    "files = os.listdir(folder_path)\n",
    "data_total=[]\n",
    "for i in range(len(files)):\n",
    "    data=[]\n",
    "    with open(f'Training Dataset_v2/訓練資料集/wiki-pages_Dec 2022 dump/wiki-pages/{files[i]}', 'r', encoding='utf-8') as f:\n",
    "        data_read = f.read()  # Read the contents of the file into a string\n",
    "        data_read = data_read.strip().split('\\n')  # Split the string into a list of lines\n",
    "        for line in data_read:\n",
    "            line = json.loads(line)\n",
    "            data_total.append(line)\n",
    "            data.append(line)\n",
    "data_total = pd.DataFrame(data_total)"
   ]
  },
  {
   "cell_type": "code",
   "execution_count": 3,
   "metadata": {},
   "outputs": [
    {
     "name": "stderr",
     "output_type": "stream",
     "text": [
      "Building prefix dict from the default dictionary ...\n",
      "Loading model from cache /tmp/jieba.cache\n",
      "Loading model cost 0.521 seconds.\n",
      "Prefix dict has been built successfully.\n",
      "[nltk_data] Downloading package punkt to /user_data/nltk_data...\n",
      "[nltk_data]   Package punkt is already up-to-date!\n",
      "[nltk_data] Downloading package averaged_perceptron_tagger to\n",
      "[nltk_data]     /user_data/nltk_data...\n",
      "[nltk_data]   Package averaged_perceptron_tagger is already up-to-\n",
      "[nltk_data]       date!\n",
      "[nltk_data] Downloading package maxent_ne_chunker to\n",
      "[nltk_data]     /user_data/nltk_data...\n",
      "[nltk_data]   Package maxent_ne_chunker is already up-to-date!\n",
      "[nltk_data] Downloading package words to /user_data/nltk_data...\n",
      "[nltk_data]   Package words is already up-to-date!\n",
      "[nltk_data] Downloading package wordnet to /user_data/nltk_data...\n",
      "[nltk_data]   Package wordnet is already up-to-date!\n"
     ]
    },
    {
     "name": "stdout",
     "output_type": "stream",
     "text": [
      "[['竇唯', 7], ['竇唯', 0], ['竇唯', 6]]\n",
      "('離開', 'v')\n",
      "('黑豹樂隊', 'n')\n",
      "('後', 'n')\n",
      "('著名', 'a')\n",
      "('中國音樂', 'n')\n",
      "('人', 'n')\n",
      "('竇唯', 'n')\n",
      "('音樂風格', 'n')\n",
      "('擺脫', 'n')\n",
      "('過往', 't')\n",
      "('流行搖滾', 'n')\n",
      " 1 竇唯   57.50560\n",
      " 2 竇唯音樂作品列表 51.87510\n",
      " 3 幻聽_(專輯) 46.89600\n",
      " 4 黑豹樂隊 40.16100\n",
      " 5 巒樹   37.51560\n",
      " 6 豔陽天_(專輯) 35.92970\n",
      " 7 山河水  35.68700\n",
      " 8 美國音樂 33.98910\n",
      " 9 八段錦_(專輯) 33.88930\n",
      "10 新浪潮音樂 31.80090\n",
      "['竇唯', '竇唯音樂作品列表', '幻聽_(專輯)', '黑豹樂隊', '巒樹', '豔陽天_(專輯)', '山河水', '美國音樂', '八段錦_(專輯)', '新浪潮音樂']\n"
     ]
    }
   ],
   "source": [
    "#處理public_train得到的claim，並retrieve回文章\n",
    "\n",
    "from udicOpenData.dictionary import *\n",
    "from udicOpenData.stopwords import *\n",
    "\n",
    "pd.set_option(\"display.max_colwidth\", 100000) #要加這行，不然底下dataframe的資訊只會出現一半\n",
    "#找出answer_id_line_list\n",
    "public_train = []\n",
    "with open(f'Training Dataset_v2/訓練資料集/public_train_0316.jsonl', 'r', encoding='utf-8') as f:\n",
    "    data_read = f.read()  # Read the contents of the file into a string\n",
    "    data_read = data_read.strip().split('\\n')  # Split the string into a list of lines\n",
    "    for line in data_read:\n",
    "        line = json.loads(line)\n",
    "        public_train.append(line)\n",
    "\n",
    "answer_id_line_list = []\n",
    "claim =public_train[53]['claim']\n",
    "for second in public_train[53]['evidence']:\n",
    "    for third in second:\n",
    "        answer_id_line_list.append([third[2],third[3]])\n",
    "print(answer_id_line_list)\n",
    "\n",
    "#找出retrieved_id\n",
    "hints=\"\"\n",
    "for i in rmsw(claim,flag=True):\n",
    "    print(i)\n",
    "    if (i[1] not in ['v','ng']) and (i[0] not in [\"原因\", \"為何\"]):\n",
    "        hints = hints+\" \"+i[0]\n",
    "retrieved_data = Retreiver(claim)\n",
    "retrieved_id=[]\n",
    "for i in retrieved_data:\n",
    "    id = json.loads(i.raw)[\"id\"]\n",
    "    if id not in retrieved_id:\n",
    "      retrieved_id.append(id)\n",
    "print(retrieved_id)"
   ]
  },
  {
   "cell_type": "code",
   "execution_count": 8,
   "metadata": {},
   "outputs": [
    {
     "data": {
      "text/plain": [
       "{'id': 2235,\n",
       " 'label': 'supports',\n",
       " 'claim': '離開黑豹樂隊後，著名中國音樂人竇唯的音樂風格擺脫過往的流行搖滾。',\n",
       " 'evidence': [[[3762, 3914, '竇唯', 7],\n",
       "   [3762, 3914, '竇唯', 0],\n",
       "   [3762, 3914, '竇唯', 6]]]}"
      ]
     },
     "execution_count": 8,
     "metadata": {},
     "output_type": "execute_result"
    }
   ],
   "source": [
    "public_train[53]"
   ]
  },
  {
   "cell_type": "code",
   "execution_count": 11,
   "metadata": {},
   "outputs": [
    {
     "data": {
      "text/plain": [
       "['0\\\\t竇唯  ， 中國大陸著名音樂家 、 歌手 、 作曲家 、 音樂製作人 ， 中國搖滾樂代表人物之一 。\\\\t中國大陸\\\\t中國大陸\\\\t音樂家\\\\t音樂家\\\\t歌手\\\\t歌手\\\\t作曲家\\\\t作曲家\\\\t音樂製作人\\\\t音樂製作人\\\\t中國搖滾樂\\\\t中國搖滾樂',\n",
       " '1\\\\t',\n",
       " '2\\\\t',\n",
       " '3\\\\t1994年5月發行第一張個人專輯 《 黑夢 》 ， ， 與魔巖唱片同儕張楚 、 何勇並稱爲 “ 魔巖三傑 ” 。\\\\t黑夢\\\\t黑夢 (專輯)\\\\t張楚\\\\t張楚 (歌手)\\\\t何勇\\\\t何勇 (歌手)\\\\t魔巖三傑\\\\t魔巖三傑',\n",
       " '4\\\\t',\n",
       " '5\\\\t',\n",
       " '6\\\\t1988年 ， 竇唯接替丁武擔任黑豹樂隊主唱 ， 並於1991年出版了專輯 《 黑豹 》 ， 迅速在香港和大陸取得了商業上的成功 ， 這是新中國第一張流行搖滾樂專輯 。\\\\t流行搖滾\\\\t流行搖滾\\\\t黑豹樂隊\\\\t黑豹樂隊',\n",
       " '7\\\\t之後竇唯離開黑豹 ， 組建了做夢樂隊 （ 1991年 ， 1992年解散 ） 、 譯樂隊 （ 1999年 ） 、 不一定樂隊 、 暮良文王 （ 2002年 ） 和不一樣樂隊 ， 其音樂風格開始多元化 。\\\\t黑豹\\\\t黑豹 (專輯)\\\\t做夢樂隊\\\\t做夢樂隊\\\\t譯樂隊\\\\t譯樂隊\\\\t不一定樂隊\\\\t不一定樂隊\\\\t暮良文王\\\\t暮良文王\\\\t不一樣樂隊\\\\t不一樣樂隊',\n",
       " '8\\\\t近年來竇唯多次和朝簡樂隊合作 。\\\\t朝簡樂隊\\\\t朝簡樂隊',\n",
       " '9\\\\t',\n",
       " '10\\\\t',\n",
       " '11\\\\t竇唯爲王菲的前夫 。\\\\t王菲\\\\t王菲',\n",
       " '12\\\\t']"
      ]
     },
     "execution_count": 11,
     "metadata": {},
     "output_type": "execute_result"
    }
   ],
   "source": [
    "data_total.loc[data_total['id'] == '竇唯', 'lines'].to_string(index=False).split('\\\\n')"
   ]
  },
  {
   "cell_type": "code",
   "execution_count": 12,
   "metadata": {},
   "outputs": [
    {
     "data": {
      "text/html": [
       "<div>\n",
       "<style scoped>\n",
       "    .dataframe tbody tr th:only-of-type {\n",
       "        vertical-align: middle;\n",
       "    }\n",
       "\n",
       "    .dataframe tbody tr th {\n",
       "        vertical-align: top;\n",
       "    }\n",
       "\n",
       "    .dataframe thead th {\n",
       "        text-align: right;\n",
       "    }\n",
       "</style>\n",
       "<table border=\"1\" class=\"dataframe\">\n",
       "  <thead>\n",
       "    <tr style=\"text-align: right;\">\n",
       "      <th></th>\n",
       "      <th>claim</th>\n",
       "      <th>narrative</th>\n",
       "      <th>labels</th>\n",
       "    </tr>\n",
       "  </thead>\n",
       "  <tbody>\n",
       "    <tr>\n",
       "      <th>0</th>\n",
       "      <td>天衛三軌道在天王星內部的磁層，以《 仲夏夜之夢 》作者緹坦妮雅命名。</td>\n",
       "      <td>1787年由威廉 · 赫歇爾發現 ， 並以威廉 · 莎士比亞的 《 仲夏夜之夢 》 中的妖精王后緹坦妮雅命名 。仲夏夜之夢仲夏夜之夢緹坦妮雅緹坦妮雅</td>\n",
       "      <td>evidence</td>\n",
       "    </tr>\n",
       "    <tr>\n",
       "      <th>1</th>\n",
       "      <td>信天翁科的活動範圍位於北冰洋以及南太平洋，牠的翼展可達到3.7米，是世界上現存的翼展最大的鳥類。</td>\n",
       "      <td>北大西洋不在它們的活動範圍 ， 但當地的化石記錄顯示它們過去曾生活於此 ， 另外偶爾也會有迷鳥到達這裏 。大西洋大西洋迷鳥迷鳥</td>\n",
       "      <td>non-evidence</td>\n",
       "    </tr>\n",
       "    <tr>\n",
       "      <th>2</th>\n",
       "      <td>南京大學附屬中學，從中國江蘇省遷移。</td>\n",
       "      <td>南開大學附屬中學 ， 位於中國天津市南開區 。中國中國南開大學附屬中學南開大學附屬中學天津市天津市南開區南開區</td>\n",
       "      <td>non-evidence</td>\n",
       "    </tr>\n",
       "    <tr>\n",
       "      <th>3</th>\n",
       "      <td>南京大學附屬中學，從中國江蘇省遷移。</td>\n",
       "      <td>南京大學附屬中學 ， 位於中國江蘇省南京市 。南京大學附屬中學南京大學附屬中學中國中國江蘇省江蘇省南京市南京市</td>\n",
       "      <td>evidence</td>\n",
       "    </tr>\n",
       "    <tr>\n",
       "      <th>4</th>\n",
       "      <td>毒魚豆的萃取物被西印度群島的原住民發掘可以導致魚麻醉安靜 ， 讓他們得以趁機徒手抓魚 。</td>\n",
       "      <td>原產於美國佛羅里達州南部 、 佛羅里達礁島群 、 德克薩斯州 ， 加勒比地區及拉丁美洲 。佛羅里達礁島群佛羅里達礁島群德克薩斯州德克薩斯州</td>\n",
       "      <td>non-evidence</td>\n",
       "    </tr>\n",
       "    <tr>\n",
       "      <th>...</th>\n",
       "      <td>...</td>\n",
       "      <td>...</td>\n",
       "      <td>...</td>\n",
       "    </tr>\n",
       "    <tr>\n",
       "      <th>7696</th>\n",
       "      <td>備後國的福山城現今位於日本廣島縣，曾在戰爭中遭到攻擊。</td>\n",
       "      <td>日本國家指定史蹟 ， 久松城 （ ひさまつじょう ） 、 葦陽城 （ いようじょう ） 是此城別名 。</td>\n",
       "      <td>non-evidence</td>\n",
       "    </tr>\n",
       "    <tr>\n",
       "      <th>7697</th>\n",
       "      <td>備後國的福山城現今位於日本廣島縣，曾在戰爭中遭到攻擊。</td>\n",
       "      <td>Category : 廣島縣城堡</td>\n",
       "      <td>non-evidence</td>\n",
       "    </tr>\n",
       "    <tr>\n",
       "      <th>7698</th>\n",
       "      <td>備後國的福山城現今位於日本廣島縣，曾在戰爭中遭到攻擊。</td>\n",
       "      <td>在第二次世界大戰期間 ， 此國寶天守遭到美軍攻擊而燒燬 。</td>\n",
       "      <td>evidence</td>\n",
       "    </tr>\n",
       "    <tr>\n",
       "      <th>7699</th>\n",
       "      <td>世界上僅次葡萄酒的品牌爲蘋果酒。</td>\n",
       "      <td>蘋果酒相對比其它水果酒 ， 其水果的氣味濃烈 、 甜度高 ， 對於不喜歡喝酒精飲料的人來說適口性非常強 。水果酒水果酒蘋果蘋果</td>\n",
       "      <td>non-evidence</td>\n",
       "    </tr>\n",
       "    <tr>\n",
       "      <th>7700</th>\n",
       "      <td>世界上僅次葡萄酒的品牌爲蘋果酒。</td>\n",
       "      <td>蘋果酒 （ Cider ； Le cidre ） ， 音譯西打 ， 是一種用蘋果汁釀造的酒精飲料 ， 是產量僅次於葡萄酒的世界第二大水果酒 ， 在西歐的英國 、 愛爾蘭 、 法國 、 德國 ， 以及美洲的美國和阿根廷均廣受歡迎 。葡萄酒葡萄酒水果酒水果酒英國英國愛爾蘭愛爾蘭法國法國德國德國美國美國阿根廷阿根廷蘋果蘋果</td>\n",
       "      <td>evidence</td>\n",
       "    </tr>\n",
       "  </tbody>\n",
       "</table>\n",
       "<p>7701 rows × 3 columns</p>\n",
       "</div>"
      ],
      "text/plain": [
       "                                                 claim   \n",
       "0                   天衛三軌道在天王星內部的磁層，以《 仲夏夜之夢 》作者緹坦妮雅命名。  \\\n",
       "1     信天翁科的活動範圍位於北冰洋以及南太平洋，牠的翼展可達到3.7米，是世界上現存的翼展最大的鳥類。   \n",
       "2                                   南京大學附屬中學，從中國江蘇省遷移。   \n",
       "3                                   南京大學附屬中學，從中國江蘇省遷移。   \n",
       "4         毒魚豆的萃取物被西印度群島的原住民發掘可以導致魚麻醉安靜 ， 讓他們得以趁機徒手抓魚 。   \n",
       "...                                                ...   \n",
       "7696                       備後國的福山城現今位於日本廣島縣，曾在戰爭中遭到攻擊。   \n",
       "7697                       備後國的福山城現今位於日本廣島縣，曾在戰爭中遭到攻擊。   \n",
       "7698                       備後國的福山城現今位於日本廣島縣，曾在戰爭中遭到攻擊。   \n",
       "7699                                  世界上僅次葡萄酒的品牌爲蘋果酒。   \n",
       "7700                                  世界上僅次葡萄酒的品牌爲蘋果酒。   \n",
       "\n",
       "                                                                                                                                                            narrative   \n",
       "0                                                                                          1787年由威廉 · 赫歇爾發現 ， 並以威廉 · 莎士比亞的 《 仲夏夜之夢 》 中的妖精王后緹坦妮雅命名 。仲夏夜之夢仲夏夜之夢緹坦妮雅緹坦妮雅  \\\n",
       "1                                                                                                     北大西洋不在它們的活動範圍 ， 但當地的化石記錄顯示它們過去曾生活於此 ， 另外偶爾也會有迷鳥到達這裏 。大西洋大西洋迷鳥迷鳥   \n",
       "2                                                                                                             南開大學附屬中學 ， 位於中國天津市南開區 。中國中國南開大學附屬中學南開大學附屬中學天津市天津市南開區南開區   \n",
       "3                                                                                                             南京大學附屬中學 ， 位於中國江蘇省南京市 。南京大學附屬中學南京大學附屬中學中國中國江蘇省江蘇省南京市南京市   \n",
       "4                                                                                               原產於美國佛羅里達州南部 、 佛羅里達礁島群 、 德克薩斯州 ， 加勒比地區及拉丁美洲 。佛羅里達礁島群佛羅里達礁島群德克薩斯州德克薩斯州   \n",
       "...                                                                                                                                                               ...   \n",
       "7696                                                                                                              日本國家指定史蹟 ， 久松城 （ ひさまつじょう ） 、 葦陽城 （ いようじょう ） 是此城別名 。   \n",
       "7697                                                                                                                                                 Category : 廣島縣城堡   \n",
       "7698                                                                                                                                    在第二次世界大戰期間 ， 此國寶天守遭到美軍攻擊而燒燬 。   \n",
       "7699                                                                                                  蘋果酒相對比其它水果酒 ， 其水果的氣味濃烈 、 甜度高 ， 對於不喜歡喝酒精飲料的人來說適口性非常強 。水果酒水果酒蘋果蘋果   \n",
       "7700  蘋果酒 （ Cider ； Le cidre ） ， 音譯西打 ， 是一種用蘋果汁釀造的酒精飲料 ， 是產量僅次於葡萄酒的世界第二大水果酒 ， 在西歐的英國 、 愛爾蘭 、 法國 、 德國 ， 以及美洲的美國和阿根廷均廣受歡迎 。葡萄酒葡萄酒水果酒水果酒英國英國愛爾蘭愛爾蘭法國法國德國德國美國美國阿根廷阿根廷蘋果蘋果   \n",
       "\n",
       "            labels  \n",
       "0         evidence  \n",
       "1     non-evidence  \n",
       "2     non-evidence  \n",
       "3         evidence  \n",
       "4     non-evidence  \n",
       "...            ...  \n",
       "7696  non-evidence  \n",
       "7697  non-evidence  \n",
       "7698      evidence  \n",
       "7699  non-evidence  \n",
       "7700      evidence  \n",
       "\n",
       "[7701 rows x 3 columns]"
      ]
     },
     "execution_count": 12,
     "metadata": {},
     "output_type": "execute_result"
    }
   ],
   "source": [
    "import pandas as pd\n",
    "pd.read_csv('/user_data/AI_CUP_2023_事實文字檢索與查核/Training Dataset_v2/訓練資料集/sentence_retrieval_train.csv')\n"
   ]
  },
  {
   "cell_type": "code",
   "execution_count": 5,
   "metadata": {},
   "outputs": [],
   "source": [
    "import re, random\n",
    "\n",
    "def add_context(answer_id_line_list, answer_context, id_line, line, i):\n",
    "    if not re.match(r'^\\d+\\\\t$',line): #不能是\"[數字]\\\\t\"的句子\n",
    "        #不能是答案裡的句子\n",
    "        for id_line_compare in answer_id_line_list:\n",
    "            if id_line[0] == id_line_compare[0] and i == id_line_compare[1] : \n",
    "                return False\n",
    "        context = re.sub(r'^\\d+', '', line)\n",
    "        context = context.replace(\"\\\\t\",'')\n",
    "        if context in answer_context:\n",
    "            return True\n",
    "        answer_context.append(context)\n",
    "        return True\n",
    "    return False\n",
    "\n",
    "answer_context = [] #答案的上下文\n",
    "for id_line in answer_id_line_list:\n",
    "    line_list = data_total.loc[data_total['id'] == id_line[0], 'lines'].to_string(index=False).split('\\\\n')\n",
    "    #找上文\n",
    "    for i in range(id_line[1]-1,-1,-1):\n",
    "        if add_context(answer_id_line_list, answer_context, id_line, line_list[i], i):\n",
    "            break\n",
    "    #找下文\n",
    "    for i in range(id_line[1]+1,len(line_list)):\n",
    "        if add_context(answer_id_line_list, answer_context, id_line, line_list[i], i):\n",
    "            break\n",
    "answer_context = random.sample(answer_context, len(answer_context))"
   ]
  },
  {
   "cell_type": "code",
   "execution_count": 6,
   "metadata": {},
   "outputs": [],
   "source": [
    "import math\n",
    "\n",
    "#for public_train_line in public_train:\n",
    "positive_data = []\n",
    "for line in answer_id_line_list:\n",
    "    evidence = data_total.loc[data_total['id'] == line[0], 'lines'].to_string(index=False).split('\\\\n')[line[1]]\n",
    "    evidence = re.sub(r'^\\d+', '', evidence)\n",
    "    evidence = evidence.replace(\"\\\\t\",'')\n",
    "    positive_data.append(evidence)\n",
    "\n",
    "negative_data=[]\n",
    "n = len(answer_id_line_list)\n",
    "match_n_limit = math.ceil((3.0/5)*n)\n",
    "\n",
    "answer_context = answer_context[:match_n_limit]\n",
    "negative_data.extend(answer_context)\n",
    "n_out = n - len(negative_data)\n",
    "out_retrieved_id = retrieved_id.copy()\n"
   ]
  },
  {
   "cell_type": "code",
   "execution_count": 7,
   "metadata": {},
   "outputs": [],
   "source": [
    "out_retrieved_id = random.sample(out_retrieved_id, n_out)\n",
    "out_retrieved_negative_data = []\n",
    "for i in range(n_out):\n",
    "    line_list = data_total.loc[data_total['id'] == out_retrieved_id[i], 'lines'].to_string(index=False).split('\\\\n')\n",
    "    choose = random.choice(line_list)\n",
    "    while re.match(r'^\\d+\\\\t$',choose): \n",
    "        line_list.remove(choose)\n",
    "        choose = random.choice(line_list)    \n",
    "    choose = re.sub(r'^\\d+', '', choose)\n",
    "    choose = choose.replace(\"\\\\t\",'')\n",
    "    out_retrieved_negative_data.append(choose)\n",
    "negative_data.extend(out_retrieved_negative_data)\n",
    "assert len(negative_data) == n"
   ]
  },
  {
   "cell_type": "code",
   "execution_count": null,
   "metadata": {},
   "outputs": [],
   "source": []
  }
 ],
 "metadata": {
  "kernelspec": {
   "display_name": "Python 3",
   "language": "python",
   "name": "python3"
  },
  "language_info": {
   "codemirror_mode": {
    "name": "ipython",
    "version": 3
   },
   "file_extension": ".py",
   "mimetype": "text/x-python",
   "name": "python",
   "nbconvert_exporter": "python",
   "pygments_lexer": "ipython3",
   "version": "3.8.16"
  },
  "orig_nbformat": 4
 },
 "nbformat": 4,
 "nbformat_minor": 2
}
